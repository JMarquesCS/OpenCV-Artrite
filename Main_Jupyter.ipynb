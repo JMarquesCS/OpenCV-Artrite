{
 "cells": [
  {
   "cell_type": "code",
   "execution_count": 1,
   "id": "6ddfc358-b582-4399-bad2-d9e4ed549f55",
   "metadata": {},
   "outputs": [],
   "source": [
    "import cv2\n",
    "import mediapipe as mp\n",
    "import numpy as np\n",
    "import uuid\n",
    "import os\n",
    "import math"
   ]
  },
  {
   "cell_type": "code",
   "execution_count": 2,
   "id": "82126008-76a9-410a-94a1-fbfbb0798386",
   "metadata": {},
   "outputs": [],
   "source": [
    "mp_drawing = mp.solutions.drawing_utils\n",
    "mp_hands = mp.solutions.hands"
   ]
  },
  {
   "cell_type": "code",
   "execution_count": 3,
   "id": "6b4e6367-b901-45a1-b686-5cede3fb3bbc",
   "metadata": {},
   "outputs": [],
   "source": [
    "def calculate_distance(point1, point2):\n",
    "    return math.sqrt((point1.x - point2.x)**2 + (point1.y - point2.y)**2 + (point1.z - point2.z)**2)\n"
   ]
  },
  {
   "cell_type": "code",
   "execution_count": 7,
   "id": "6b5678d9-a960-4c92-80c3-2421ea74fc3b",
   "metadata": {},
   "outputs": [],
   "source": [
    "cap = cv2.VideoCapture('DATA/Data4.mp4')\n",
    "\n",
    "with mp_hands.Hands(min_detection_confidence=0.5, min_tracking_confidence=0.3) as hands:\n",
    "    while cap.isOpened():\n",
    "        ret, frame = cap.read()\n",
    "        if not ret:\n",
    "            break\n",
    "\n",
    "        image = cv2.cvtColor(frame, cv2.COLOR_BGR2RGB)\n",
    "        image.flags.writeable = False\n",
    "        results = hands.process(image)\n",
    "        image.flags.writeable = True\n",
    "        image = cv2.cvtColor(image, cv2.COLOR_RGB2BGR)\n",
    "\n",
    "        if results.multi_hand_landmarks:\n",
    "            for num, hand_landmarks in enumerate(results.multi_hand_landmarks):\n",
    "                hand_label = results.multi_handedness[num].classification[0].label\n",
    "\n",
    "                wrist = hand_landmarks.landmark[0]\n",
    "                thumb_tip = hand_landmarks.landmark[4]\n",
    "                index_tip = hand_landmarks.landmark[8]\n",
    "                middle_tip = hand_landmarks.landmark[12]\n",
    "\n",
    "                thumb_to_wrist = calculate_distance(thumb_tip, wrist)\n",
    "                index_to_wrist = calculate_distance(index_tip, wrist)\n",
    "                middle_to_wrist = calculate_distance(middle_tip, wrist)\n",
    "\n",
    "                if thumb_to_wrist > 0.2 and index_to_wrist > 0.2 and middle_to_wrist > 0.2:\n",
    "                    gesture = \"Mao aberta\"\n",
    "                else:\n",
    "                    gesture = \"Mao fechada\"\n",
    "\n",
    "                cv2.putText(image, f\"{hand_label}: {gesture}\", (10, 50 + num * 30),\n",
    "                            cv2.FONT_HERSHEY_SIMPLEX, 1, (255, 255, 255), 2, cv2.LINE_AA)\n",
    "\n",
    "                mp_drawing.draw_landmarks(image, hand_landmarks, mp_hands.HAND_CONNECTIONS)\n",
    "\n",
    "        cv2.imshow('Frame', image)\n",
    "        if cv2.waitKey(10) & 0xFF == ord('q'):\n",
    "            break\n",
    "\n",
    "cap.release()\n",
    "cv2.destroyAllWindows()"
   ]
  },
  {
   "cell_type": "code",
   "execution_count": 26,
   "id": "1433a925-e1bd-492e-9ad9-13e55eb75f12",
   "metadata": {},
   "outputs": [],
   "source": [
    "#results.multi_hand_landmarks"
   ]
  }
 ],
 "metadata": {
  "kernelspec": {
   "display_name": "Python 3 (ipykernel)",
   "language": "python",
   "name": "python3"
  },
  "language_info": {
   "codemirror_mode": {
    "name": "ipython",
    "version": 3
   },
   "file_extension": ".py",
   "mimetype": "text/x-python",
   "name": "python",
   "nbconvert_exporter": "python",
   "pygments_lexer": "ipython3",
   "version": "3.9.21"
  }
 },
 "nbformat": 4,
 "nbformat_minor": 5
}
