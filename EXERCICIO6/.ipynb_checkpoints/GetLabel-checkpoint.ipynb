{
 "cells": [
  {
   "cell_type": "code",
   "execution_count": 1,
   "id": "6578832f-7862-44e8-9aae-c5e6a617a9bf",
   "metadata": {},
   "outputs": [],
   "source": [
    "import cv2\n",
    "import mediapipe as mp\n",
    "import numpy as np\n",
    "import math\n",
    "import pandas as pd"
   ]
  },
  {
   "cell_type": "code",
   "execution_count": 2,
   "id": "aa23c768-99a2-4699-a6c8-76cac97b77cc",
   "metadata": {},
   "outputs": [],
   "source": [
    "mp_drawing = mp.solutions.drawing_utils\n",
    "mp_hands = mp.solutions.hands"
   ]
  },
  {
   "cell_type": "code",
   "execution_count": 3,
   "id": "694c0724-918b-493c-8bce-22c560b46896",
   "metadata": {},
   "outputs": [],
   "source": [
    "def calculate_distance(point1, point2):\n",
    "    return math.sqrt((point1.x - point2.x)**2 + (point1.y - point2.y)**2 + (point1.z - point2.z)**2)"
   ]
  },
  {
   "cell_type": "code",
   "execution_count": 49,
   "id": "60c2ba86-6e85-4a0a-9121-da4b6b7bdd2f",
   "metadata": {},
   "outputs": [],
   "source": [
    "cap = cv2.VideoCapture('DATA_SAMPLE/DATA7.mp4')\n",
    "#cap = cv2.VideoCapture(0)\n",
    "data = []\n",
    "\n",
    "with mp_hands.Hands(min_detection_confidence=0.5, min_tracking_confidence=0.3) as hands:\n",
    "    while cap.isOpened():\n",
    "        ret, frame = cap.read()\n",
    "        if not ret:\n",
    "            break\n",
    "\n",
    "        # Convertendo para RGB\n",
    "        image = cv2.cvtColor(frame, cv2.COLOR_BGR2RGB)\n",
    "        image.flags.writeable = False\n",
    "        results = hands.process(image)\n",
    "        image.flags.writeable = True\n",
    "        image = cv2.cvtColor(image, cv2.COLOR_RGB2BGR)\n",
    "\n",
    "        if results.multi_hand_landmarks:\n",
    "            for num, hand_landmarks in enumerate(results.multi_hand_landmarks):\n",
    "                hand_label = results.multi_handedness[num].classification[0].label  # 'Left' ou 'Right'\n",
    "\n",
    "                # Pegando os pontos das pontas dos dedos\n",
    "                thumb_tip = hand_landmarks.landmark[4]\n",
    "                index_tip = hand_landmarks.landmark[8]\n",
    "                middle_tip = hand_landmarks.landmark[12]\n",
    "                ring_tip = hand_landmarks.landmark[16]\n",
    "                pinky_tip = hand_landmarks.landmark[20]\n",
    "\n",
    "                # Calculando distâncias entre os dedos\n",
    "                thumb_index_dist = calculate_distance(thumb_tip, index_tip)\n",
    "                index_middle_dist = calculate_distance(index_tip, middle_tip)\n",
    "                middle_ring_dist = calculate_distance(middle_tip, ring_tip)\n",
    "                ring_pinky_dist = calculate_distance(ring_tip, pinky_tip)\n",
    "                thumb_middle_dist = calculate_distance(thumb_tip, middle_tip)\n",
    "                index_ring_dist = calculate_distance(index_tip, ring_tip)\n",
    "\n",
    "                # Definição dos gestos com base nas distâncias\n",
    "                if (\n",
    "                    thumb_index_dist < 0.27 and  # Polegar e indicador juntos\n",
    "                    index_middle_dist < 0.18 and  # Indicador e médio juntos\n",
    "                    middle_ring_dist > 0.2 and  # Médio e anelar separados\n",
    "                    ring_pinky_dist < 0.23  # Anelar e mínimo juntos\n",
    "                ):\n",
    "                    gesture = 1\n",
    "\n",
    "                elif (\n",
    "                    thumb_index_dist > 0.30 and  # Polegar separado do indicador\n",
    "                    index_middle_dist < 0.18 and  # Indicador e médio juntos\n",
    "                    middle_ring_dist > 0.2 and  # Médio e anelar separados\n",
    "                    ring_pinky_dist < 0.23  # Anelar e mínimo juntos\n",
    "                ):\n",
    "                    gesture = 2\n",
    "\n",
    "                elif (\n",
    "                    thumb_index_dist < 0.2 and  # Polegar e indicador juntos\n",
    "                    index_middle_dist > 0.2 and  # Indicador e médio separados\n",
    "                    middle_ring_dist < 0.15 and  # Médio e anelar juntos\n",
    "                    ring_pinky_dist > 0.2  # Anelar e mínimo separados\n",
    "                ):\n",
    "                    gesture = 3\n",
    "\n",
    "                else:\n",
    "                    gesture = 0\n",
    "\n",
    "                # Exibir texto do gesto detectado\n",
    "                cv2.putText(image, f\"{hand_label}: {gesture}\", (10, 50 + num * 30),\n",
    "                            cv2.FONT_HERSHEY_SIMPLEX, 1, (255, 255, 255), 2, cv2.LINE_AA)\n",
    "\n",
    "                # Desenhar os pontos da mão\n",
    "                mp_drawing.draw_landmarks(image, hand_landmarks, mp_hands.HAND_CONNECTIONS)\n",
    "                #print(thumb_index_dist, index_middle_dist, middle_ring_dist,ring_pinky_dist, gesture)\n",
    "\n",
    "                #Coleta das coordenadas e rótulo\n",
    "                landmarks = [landmark for landmark in hand_landmarks.landmark]\n",
    "                flattened = [coord for landmark in landmarks for coord in (landmark.x, landmark.y, landmark.z)]\n",
    "\n",
    "                data.append(flattened + [gesture])\n",
    "\n",
    "        cv2.imshow('Detecção de Gestos', image)\n",
    "        if cv2.waitKey(10) & 0xFF == ord('q'):\n",
    "            break\n",
    "\n",
    "cap.release()\n",
    "cv2.destroyAllWindows()"
   ]
  },
  {
   "cell_type": "code",
   "execution_count": 47,
   "id": "97b83208-df78-4f44-8bff-5a594fd97d01",
   "metadata": {},
   "outputs": [],
   "source": [
    "##Salvar dados em arquivo CSV\n",
    "#df = pd.DataFrame(data, columns=[f'landmark_{i}_x' for i in range(21)] + [f'landmark_{i}_y' for i in range(21)] + [f'landmark_{i}_z' for i in range(21)] + ['gesture'])\n",
    "#df.to_csv('Exerc2.csv', index=False)"
   ]
  }
 ],
 "metadata": {
  "kernelspec": {
   "display_name": "Python 3 (ipykernel)",
   "language": "python",
   "name": "python3"
  },
  "language_info": {
   "codemirror_mode": {
    "name": "ipython",
    "version": 3
   },
   "file_extension": ".py",
   "mimetype": "text/x-python",
   "name": "python",
   "nbconvert_exporter": "python",
   "pygments_lexer": "ipython3",
   "version": "3.9.21"
  }
 },
 "nbformat": 4,
 "nbformat_minor": 5
}
